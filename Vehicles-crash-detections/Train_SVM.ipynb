{
 "cells": [
  {
   "cell_type": "code",
   "execution_count": 1,
   "id": "6fc73a82",
   "metadata": {},
   "outputs": [],
   "source": [
    "from sklearn import svm\n",
    "from sklearn.svm import SVC\n",
    "from sklearn.model_selection import train_test_split\n",
    "from sklearn.metrics import average_precision_score,precision_recall_curve,roc_curve,auc,confusion_matrix,recall_score,precision_score\n",
    "import matplotlib.pyplot as plt\n",
    "import pickle\n",
    "from glob import glob\n",
    "import numpy as np\n",
    "import cv2\n",
    "from VIF import ViF\n"
   ]
  },
  {
   "cell_type": "code",
   "execution_count": 2,
   "id": "b6125e59",
   "metadata": {},
   "outputs": [
    {
     "name": "stdout",
     "output_type": "stream",
     "text": [
      "(57, 304)\n"
     ]
    }
   ],
   "source": [
    "no_accidents = np.genfromtxt(\"D:\\ZU\\Last year\\Graduation_Project\\Final work\\crash estimation\\VIF\\models\\data_no_accident.csv\", delimiter=\",\")\n",
    "\n",
    "# balance data as accident \n",
    "no_accidents = no_accidents[0:57, :]\n",
    "\n",
    "y_no_accidents = np.zeros(no_accidents.shape[0])\n",
    "y_no_accidents = y_no_accidents.reshape(no_accidents.shape[0], 1)\n",
    "\n",
    "print(no_accidents.shape)\n"
   ]
  },
  {
   "cell_type": "code",
   "execution_count": 3,
   "id": "79b753ea",
   "metadata": {},
   "outputs": [
    {
     "name": "stdout",
     "output_type": "stream",
     "text": [
      "(114, 304) (114, 1)\n",
      "(57, 304)\n",
      "(57, 304)\n"
     ]
    }
   ],
   "source": [
    "accidents = np.genfromtxt(\"D:\\ZU\\Last year\\Graduation_Project\\Final work\\crash estimation\\VIF\\models\\data_accident.csv\", delimiter=\",\")\n",
    "y_accidents = np.ones(accidents.shape[0])\n",
    "y_accidents = y_accidents.reshape(accidents.shape[0], 1)\n",
    "\n",
    "X = np.vstack((no_accidents, accidents))\n",
    "y = np.vstack((y_no_accidents, y_accidents))\n",
    "\n",
    "print(X.shape, y.shape)\n",
    "print(no_accidents.shape)\n",
    "print(accidents.shape)\n",
    "\n",
    "X_train, X_test, y_train, y_test = train_test_split(X, y, test_size=0.1)"
   ]
  },
  {
   "cell_type": "code",
   "execution_count": 4,
   "id": "8e7202e7",
   "metadata": {},
   "outputs": [
    {
     "name": "stdout",
     "output_type": "stream",
     "text": [
      "Normal score:  0.75\n"
     ]
    },
    {
     "name": "stderr",
     "output_type": "stream",
     "text": [
      "C:\\Users\\maher\\anaconda3\\lib\\site-packages\\sklearn\\utils\\validation.py:63: DataConversionWarning: A column-vector y was passed when a 1d array was expected. Please change the shape of y to (n_samples, ), for example using ravel().\n",
      "  return f(*args, **kwargs)\n"
     ]
    }
   ],
   "source": [
    "clf = SVC(\n",
    "    kernel=\"linear\", probability=True, tol=1e-3\n",
    ")  # , verbose = True) #Set the classifier as a support vector machines with\n",
    "\n",
    "clf.fit(X_train, y_train)\n",
    "print(\"Normal score: \", clf.score(X_test, y_test))\n"
   ]
  },
  {
   "cell_type": "code",
   "execution_count": 5,
   "id": "dc845888",
   "metadata": {},
   "outputs": [
    {
     "name": "stdout",
     "output_type": "stream",
     "text": [
      "Average precision-recall score: 0.83\n"
     ]
    }
   ],
   "source": [
    "# average presition\n",
    "y_score = clf.decision_function(X_test)\n",
    "average_precision = average_precision_score(y_test, y_score)\n",
    "print(\"Average precision-recall score: {0:0.2f}\".format(average_precision))\n"
   ]
  },
  {
   "cell_type": "code",
   "execution_count": 6,
   "id": "8568fee7",
   "metadata": {},
   "outputs": [
    {
     "data": {
      "image/png": "[encoded data removed]",
      "text/plain": [
       "<Figure size 432x288 with 1 Axes>"
      ]
     },
     "metadata": {
      "needs_background": "light"
     },
     "output_type": "display_data"
    },
    {
     "name": "stdout",
     "output_type": "stream",
     "text": [
      "Confusion matrix tn, fp, fn, tp  5 0 3 4\n",
      "recall 0.5714285714285714\n",
      "precision 1.0\n"
     ]
    }
   ],
   "source": [
    "precision, recall, _ = precision_recall_curve(y_test, y_score)\n",
    "# print(\"precision\", precision, \"recall\", recall)\n",
    "\n",
    "plt.step(recall, precision, color=\"b\", alpha=0.2, where=\"post\")\n",
    "plt.fill_between(recall, precision, step=\"post\", alpha=0.2, color=\"b\")\n",
    "\n",
    "plt.xlabel(\"Recall\")\n",
    "plt.ylabel(\"Precision\")\n",
    "plt.ylim([0.0, 1.05])\n",
    "plt.xlim([0.0, 1.0])\n",
    "plt.title(\"2-class Precision-Recall curve: AP={0:0.2f}\".format(average_precision))\n",
    "plt.show()\n",
    "\n",
    "\n",
    "# ROC\n",
    "preds = clf.predict(X_test)\n",
    "\n",
    "tn, fp, fn, tp = confusion_matrix(y_test, preds).ravel()\n",
    "print(\"Confusion matrix tn, fp, fn, tp \", tn, fp, fn, tp)\n",
    "\n",
    "print(\"recall\", recall_score(y_test, preds))\n",
    "print(\"precision\", precision_score(y_test, preds))\n"
   ]
  },
  {
   "cell_type": "code",
   "execution_count": 7,
   "id": "6ee25559",
   "metadata": {},
   "outputs": [
    {
     "data": {
      "image/png": "[encoded data removed]",
      "text/plain": [
       "<Figure size 432x288 with 1 Axes>"
      ]
     },
     "metadata": {
      "needs_background": "light"
     },
     "output_type": "display_data"
    }
   ],
   "source": [
    "fpr, tpr, threshold = roc_curve(y_test, preds)\n",
    "roc_auc = auc(fpr, tpr)\n",
    "\n",
    "plt.title(\"Receiver Operating Characteristic\")\n",
    "plt.plot(fpr, tpr, \"b\", label=\"AUC = %0.2f\" % roc_auc)\n",
    "plt.legend(loc=\"lower right\")\n",
    "plt.plot([0, 1], [0, 1], \"r--\")\n",
    "plt.xlim([0, 1])\n",
    "plt.ylim([0, 1])\n",
    "plt.ylabel(\"True Positive Rate\")\n",
    "plt.xlabel(\"False Positive Rate\")\n",
    "plt.show()\n",
    "\n",
    "\n",
    "# print(X_test)\n",
    "# print(y_test)\n",
    "# print(clf.predict(X_test))\n",
    "\n",
    "# pickle.dump(clf, open('models/model-svm.sav', 'wb'))\n"
   ]
  },
  {
   "cell_type": "code",
   "execution_count": 8,
   "id": "f957c322",
   "metadata": {},
   "outputs": [],
   "source": [
    "cap = cv2.VideoCapture(\"dataset/no_accident/10.avi\")\n",
    "frames = []\n",
    "vif = ViF()\n",
    "\n",
    "while True:\n",
    "    ret, frame = cap.read()\n",
    "\n",
    "    if ret:\n",
    "        gray = cv2.cvtColor(frame, cv2.COLOR_BGR2GRAY)\n",
    "        frames.append(gray)\n",
    "\n",
    "    else:\n",
    "        break\n",
    "\n"
   ]
  },
  {
   "cell_type": "code",
   "execution_count": 9,
   "id": "66670685",
   "metadata": {},
   "outputs": [
    {
     "name": "stdout",
     "output_type": "stream",
     "text": [
      "[0.]\n"
     ]
    }
   ],
   "source": [
    "obj = ViF()\n",
    "feature_vec = obj.process(frames)\n",
    "print(clf.predict(feature_vec.reshape(1, 304)))\n"
   ]
  },
  {
   "cell_type": "code",
   "execution_count": 10,
   "id": "8c7055ba",
   "metadata": {},
   "outputs": [
    {
     "data": {
      "text/plain": [
       "'\\nX, Y = load_bd()\\n\\n    X_train, X_test, y_train, y_test = train_test_split(X, Y, test_size=0.2)\\n\\n    X = np.array(X)\\n    Y = np.array(Y)\\n\\n    print X.shape\\n    print Y.shape\\n    # print Y\\n\\n    #np.savetxt(\"X.csv\", X, delimiter=\",\")\\n    #np.savetxt(\"Y.csv\", Y, delimiter=\",\")\\n\\n    clf = SVC(kernel=\\'linear\\', probability=True, tol=1e-3)  # , verbose = True) #Set the classifier as a support vector machines with\\n\\n    clf.fit(X_train, y_train)\\n    #joblib.dump(clf, \\'../models/ship-svm.pkl\\')\\n    pickle.dump(clf, open(\\'../models/ship-svm.sav\\', \\'wb\\'))\\n\\n    print \"Normal score: \", clf.score(X_test, y_test)\\n'"
      ]
     },
     "execution_count": 10,
     "metadata": {},
     "output_type": "execute_result"
    }
   ],
   "source": [
    "\n",
    "\"\"\"\n",
    "X, Y = load_bd()\n",
    "\n",
    "    X_train, X_test, y_train, y_test = train_test_split(X, Y, test_size=0.2)\n",
    "\n",
    "    X = np.array(X)\n",
    "    Y = np.array(Y)\n",
    "\n",
    "    print X.shape\n",
    "    print Y.shape\n",
    "    # print Y\n",
    "\n",
    "    #np.savetxt(\"X.csv\", X, delimiter=\",\")\n",
    "    #np.savetxt(\"Y.csv\", Y, delimiter=\",\")\n",
    "\n",
    "    clf = SVC(kernel='linear', probability=True, tol=1e-3)  # , verbose = True) #Set the classifier as a support vector machines with\n",
    "\n",
    "    clf.fit(X_train, y_train)\n",
    "    #joblib.dump(clf, '../models/ship-svm.pkl')\n",
    "    pickle.dump(clf, open('../models/ship-svm.sav', 'wb'))\n",
    "\n",
    "    print \"Normal score: \", clf.score(X_test, y_test)\n",
    "\"\"\"\n"
   ]
  },
  {
   "cell_type": "code",
   "execution_count": 12,
   "id": "8fd6ad82",
   "metadata": {},
   "outputs": [
    {
     "name": "stderr",
     "output_type": "stream",
     "text": [
      "C:\\Users\\maher\\anaconda3\\lib\\site-packages\\sklearn\\utils\\validation.py:63: DataConversionWarning: A column-vector y was passed when a 1d array was expected. Please change the shape of y to (n_samples, ), for example using ravel().\n",
      "  return f(*args, **kwargs)\n"
     ]
    }
   ],
   "source": [
    "clf_full = SVC(\n",
    "    kernel=\"linear\", probability=True, tol=1e-3\n",
    ")  # , verbose = True) #Set the classifier as a support vector machines with\n",
    "clf_full.fit(X, y)\n",
    "pickle.dump(clf_full, open(\"models/model-svm.sav\", \"wb\"))"
   ]
  },
  {
   "cell_type": "code",
   "execution_count": null,
   "id": "07c90333",
   "metadata": {},
   "outputs": [],
   "source": []
  }
 ],
 "metadata": {
  "kernelspec": {
   "display_name": "Python 3 (ipykernel)",
   "language": "python",
   "name": "python3"
  },
  "language_info": {
   "codemirror_mode": {
    "name": "ipython",
    "version": 3
   },
   "file_extension": ".py",
   "mimetype": "text/x-python",
   "name": "python",
   "nbconvert_exporter": "python",
   "pygments_lexer": "ipython3",
   "version": "3.9.7"
  }
 },
 "nbformat": 4,
 "nbformat_minor": 5
}
